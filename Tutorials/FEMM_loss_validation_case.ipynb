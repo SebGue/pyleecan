{
 "cells": [
  {
   "cell_type": "markdown",
   "metadata": {},
   "source": [
    "# Validation case for the loss model\n",
    "\n",
    "This validation case is based on a [FEMM websites' page](https://www.femm.info/wiki/SPMLoss)"
   ]
  },
  {
   "cell_type": "markdown",
   "metadata": {},
   "source": [
    "## Definition of the machine\n",
    "\n",
    "The machine has been defined in the pyleecan GUI. Then, it must be imported."
   ]
  },
  {
   "cell_type": "code",
   "execution_count": 1,
   "metadata": {},
   "outputs": [
    {
     "name": "stdout",
     "output_type": "stream",
     "text": [
      "PYLEECAN version : 1.3.8\n"
     ]
    }
   ],
   "source": [
    "\n",
    "import sys\n",
    "from os.path import join\n",
    "import pyleecan\n",
    "print(f'PYLEECAN version : {pyleecan.__version__}')\n",
    "from pyleecan.Functions.load import load\n",
    "from pyleecan.definitions import DATA_DIR\n",
    "\n",
    "\n",
    "machine = load(join(DATA_DIR, \"Machine\", \"SPMSM_18s16p_loss.json\"))"
   ]
  },
  {
   "cell_type": "markdown",
   "metadata": {},
   "source": [
    "## Definition of the simulation\n",
    "\n",
    "A simulation is defined by simply creating an instance of the Simu1 object, with a name and the machine that was defined previously."
   ]
  },
  {
   "cell_type": "code",
   "execution_count": 2,
   "metadata": {},
   "outputs": [],
   "source": [
    "from pyleecan.Classes.Simu1 import Simu1\n",
    "\n",
    "simu = Simu1(name=\"Validation_Loss_SPMSM\", machine=machine)"
   ]
  },
  {
   "cell_type": "markdown",
   "metadata": {},
   "source": [
    "In this simulation, we will need to run the magnetic module. Thus, it has to be defined, but beforehand, we need to create an InputCurrent object to set the excitation current for the magnetic module."
   ]
  },
  {
   "cell_type": "code",
   "execution_count": 3,
   "metadata": {},
   "outputs": [],
   "source": [
    "from pyleecan.Classes.InputCurrent import InputCurrent\n",
    "from pyleecan.Classes.MagFEMM import MagFEMM\n",
    "from pyleecan.Classes.OPdq import OPdq\n",
    "import numpy as np\n",
    "\n",
    "simu.input = InputCurrent(\n",
    "    Nt_tot=4 * 20 * 16,\n",
    "    Na_tot=1000 * 2,\n",
    "    OP=OPdq(N0=4000, Id_ref=0, Iq_ref=np.sqrt(2)),\n",
    "    is_periodicity_t=True,\n",
    "    is_periodicity_a=True,\n",
    ")\n",
    "\n",
    "simu.mag = MagFEMM(\n",
    "    is_periodicity_a=True,\n",
    "    is_periodicity_t=True,\n",
    "    nb_worker=4,\n",
    "    is_get_meshsolution=True,\n",
    "    FEMM_dict_enforced={\n",
    "        \"simu\": {\"minangle\": 30},\n",
    "        \"mesh\": {\n",
    "            \"meshsize_airgap\": 0.00014,\n",
    "            \"elementsize_airgap\": 0.00014,\n",
    "            \"smart_mesh\": 1,\n",
    "        }\n",
    "    }\n",
    ")"
   ]
  },
  {
   "cell_type": "markdown",
   "metadata": {},
   "source": [
    "Then, we need to create a loss object to compute the loss. This loss object needs to be given the loss coeficients, obtained by curve fitting from material data. Here, the coefficients are taken from the FEMM website."
   ]
  },
  {
   "cell_type": "code",
   "execution_count": 4,
   "metadata": {},
   "outputs": [],
   "source": [
    "from pyleecan.Classes.LossFEA import LossFEA\n",
    "\n",
    "Ch = 143  # hysteresis loss coefficient [W/(m^3*T^2*Hz)]\n",
    "Ce = 0.530  # eddy current loss coefficients [W/(m^3*T^2*Hz^2)]\n",
    "Cprox = 4.1018  # sigma_w * cond.Hwire * cond.Wwire\n",
    "\n",
    "simu.loss = LossFEA(Ce=Ce, Cp=Cprox, Ch=Ch, is_get_meshsolution=True, Tsta=120)\n"
   ]
  },
  {
   "cell_type": "markdown",
   "metadata": {},
   "source": [
    "## Simulation\n",
    "\n",
    "Now that the simulation is properly set up, it can simply be run with the run method. The output will be store as the out variable."
   ]
  },
  {
   "cell_type": "code",
   "execution_count": 5,
   "metadata": {},
   "outputs": [
    {
     "name": "stdout",
     "output_type": "stream",
     "text": [
      "[11:52:59] Starting running simulation Validation_Loss_SPMSM (machine=SPMSM_18s16p_loss_mod)\n",
      "[11:52:59] Starting Magnetic module\n",
      "[11:53:02] Solving time steps: 0%\n",
      "[11:53:02] Solving time steps: 0%\n",
      "[11:53:02] Solving time steps: 0%\n",
      "[11:53:02] Solving time steps: 0%\n",
      "[11:53:48] Solving time steps: 25%\n",
      "[11:53:48] Solving time steps: 25%\n",
      "[11:53:48] Solving time steps: 25%\n",
      "[11:53:48] Solving time steps: 25%\n",
      "[11:54:29] Solving time steps: 50%\n",
      "[11:54:30] Solving time steps: 50%\n",
      "[11:54:30] Solving time steps: 50%\n",
      "[11:54:30] Solving time steps: 50%\n",
      "[11:55:10] Solving time steps: 75%\n",
      "[11:55:10] Solving time steps: 75%\n",
      "[11:55:10] Solving time steps: 75%\n",
      "[11:55:18] Solving time steps: 75%\n",
      "[11:55:50] Solving time step: 100%\n",
      "[11:55:50] Solving time step: 100%\n",
      "[11:55:50] Solving time step: 100%\n",
      "[11:55:54] Solving time step: 100%\n",
      "[11:55:54] Running LossFEA module\n",
      "[11:56:17] End of simulation Validation_Loss_SPMSM\n"
     ]
    }
   ],
   "source": [
    "  out = simu.run()"
   ]
  },
  {
   "cell_type": "markdown",
   "metadata": {},
   "source": [
    "## Post processing\n",
    "\n",
    "All the usefull quantities are stored in the output object so post processing can be made. For exemple, it is now possible to get all the different powers (mechanical and losses)."
   ]
  },
  {
   "cell_type": "code",
   "execution_count": 6,
   "metadata": {},
   "outputs": [
    {
     "name": "stdout",
     "output_type": "stream",
     "text": [
      "{'total_power': 61.7855671011481, 'overall_losses': 10.280227387668617, 'stator_loss': 3.3453318194630564, 'copper_loss': 4.385847766901311, 'rotor_loss': 0.0888390671547347, 'magnet_loss': 2.405643724682283, 'proximity_loss': 0.05456500946723083}\n"
     ]
    }
   ],
   "source": [
    "power_dict = {\n",
    "    \"total_power\": out.mag.Pem_av,\n",
    "    \"overall_losses\": out.loss.get_loss_overall(),\n",
    "    \"stator_loss\": out.loss.Pstator,\n",
    "    \"copper_loss\": out.loss.Pjoule,\n",
    "    \"rotor_loss\": out.loss.Protor,\n",
    "    \"magnet_loss\": out.loss.Pmagnet,\n",
    "    \"proximity_loss\": out.loss.Pprox,\n",
    "}\n",
    "print(power_dict)"
   ]
  },
  {
   "cell_type": "markdown",
   "metadata": {},
   "source": [
    "## Drawing maps of the machine\n",
    "\n",
    "Is is possible to draw for example the map of the flux density in the machine."
   ]
  },
  {
   "cell_type": "code",
   "execution_count": 7,
   "metadata": {},
   "outputs": [
    {
     "data": {
      "text/html": [
       "<pre style=\"white-space:pre;overflow-x:auto;line-height:normal;font-family:Menlo,'DejaVu Sans Mono',consolas,'Courier New',monospace\"><span style=\"color: #808000; text-decoration-color: #808000; font-weight: bold\">Warning:</span><span style=\"color: #808000; text-decoration-color: #808000\"> VTK requires 3D points, but 2D points given. Appending </span><span style=\"color: #808000; text-decoration-color: #808000; font-weight: bold\">0</span><span style=\"color: #808000; text-decoration-color: #808000\"> third component.</span>\n",
       "</pre>\n"
      ],
      "text/plain": [
       "\u001b[1;33mWarning:\u001b[0m\u001b[33m VTK requires 3D points, but 2D points given. Appending \u001b[0m\u001b[1;33m0\u001b[0m\u001b[33m third component.\u001b[0m\n"
      ]
     },
     "metadata": {},
     "output_type": "display_data"
    }
   ],
   "source": [
    "out.loss.meshsol_list[0].plot_contour(\n",
    "    \"freqs=sum\",\n",
    "    label=\"Loss\",\n",
    "    group_names=[\n",
    "        \"stator core\",\n",
    "        \"stator winding\",\n",
    "        \"rotor core\",\n",
    "        \"rotor magnets\",\n",
    "    ]\n",
    ")\n"
   ]
  },
  {
   "cell_type": "markdown",
   "metadata": {},
   "source": [
    "## Study at variable speed \n",
    "\n",
    "After the simulation, coefficients are computed to enable calculating the losses at different speeds without runnning another simualtion. This allows to easily plot the variation of the different losses as a function of the rotation speed of the rotor."
   ]
  },
  {
   "cell_type": "code",
   "execution_count": 8,
   "metadata": {},
   "outputs": [
    {
     "name": "stderr",
     "output_type": "stream",
     "text": [
      "C:\\Users\\LAP10\\AppData\\Local\\Programs\\Python\\Python38\\lib\\site-packages\\SciDataTool\\Functions\\Plot\\plot_2D.py:472: UserWarning: Matplotlib is currently using module://matplotlib_inline.backend_inline, which is a non-GUI backend, so cannot show the figure.\n",
      "  fig.show()\n"
     ]
    },
    {
     "data": {
      "image/png": "[encoded data removed]",
      "text/plain": [
       "<Figure size 576x288 with 1 Axes>"
      ]
     },
     "metadata": {
      "needs_background": "light"
     },
     "output_type": "display_data"
    }
   ],
   "source": [
    "%matplotlib inline\n",
    "from pyleecan.Classes.OutLoss import OutLoss\n",
    "from SciDataTool.Functions.Plot.plot_2D import plot_2D\n",
    "\n",
    "speed_array = np.linspace(10, 8000, 100)\n",
    "p = machine.get_pole_pair_number()\n",
    "outloss_list = list()\n",
    "for speed in speed_array:\n",
    "    out_dict = {\"coeff_dict\": out.loss.coeff_dict}\n",
    "    outloss = OutLoss()\n",
    "    outloss.store(out_dict, felec=speed / 60 * p)\n",
    "    outloss_list.append(outloss)\n",
    "\n",
    "joule_list = [o.Pjoule for o in outloss_list]\n",
    "sc_list = [o.Pstator for o in outloss_list]\n",
    "rc_list = [o.Protor for o in outloss_list]\n",
    "prox_list = [o.Pprox for o in outloss_list]\n",
    "mag_list = [o.Pmagnet for o in outloss_list]\n",
    "ovl_list = [o.get_loss_overall() for o in outloss_list]\n",
    "\n",
    "plot_2D(\n",
    "    [speed_array],\n",
    "    [ovl_list, joule_list, sc_list, rc_list, prox_list, mag_list],\n",
    "    xlabel=\"Speed [rpm]\",\n",
    "    ylabel=\"Losses [W]\",\n",
    "    legend_list=[\n",
    "        \"Overall\",\n",
    "        \"Winding Joule\",\n",
    "        \"Stator core\",\n",
    "        \"Rotor core\",\n",
    "        \"Winding proximity\",\n",
    "        \"Magnets\",\n",
    "    ]\n",
    ")\n"
   ]
  }
 ],
 "metadata": {
  "interpreter": {
   "hash": "f00892c934405abc460ca24e3bb6083014154fea3bdeb89b449e121ed55ee4e6"
  },
  "kernelspec": {
   "display_name": "Python 3 (ipykernel)",
   "language": "python",
   "name": "python3"
  },
  "language_info": {
   "codemirror_mode": {
    "name": "ipython",
    "version": 3
   },
   "file_extension": ".py",
   "mimetype": "text/x-python",
   "name": "python",
   "nbconvert_exporter": "python",
   "pygments_lexer": "ipython3",
   "version": "3.8.10"
  }
 },
 "nbformat": 4,
 "nbformat_minor": 2
}
